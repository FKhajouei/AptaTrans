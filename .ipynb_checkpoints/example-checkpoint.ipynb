{
 "cells": [
  {
   "cell_type": "code",
   "execution_count": 1,
   "id": "6875d3c1-9449-40bb-bf4c-a357f98c8e60",
   "metadata": {},
   "outputs": [],
   "source": [
    "from aptatrans_pipeline import AptaTransPipeline"
   ]
  },
  {
   "cell_type": "markdown",
   "id": "cf7668db-f683-40b3-ba39-436ab01d8ef4",
   "metadata": {},
   "source": [
    "# Initialize the Pipeline"
   ]
  },
  {
   "cell_type": "code",
   "execution_count": 2,
   "id": "3ebf2206-d605-4878-9a20-351bcb7c8cd5",
   "metadata": {},
   "outputs": [
    {
     "name": "stdout",
     "output_type": "stream",
     "text": [
      "Best pre-trained models are loaded!\n"
     ]
    }
   ],
   "source": [
    "pipeline = AptaTransPipeline(\n",
    "    d_model=128,\n",
    "    d_ff=512,\n",
    "    n_layers=6,\n",
    "    n_heads=8,\n",
    "    dropout=0.1,\n",
    "    load_best_pt=True,\n",
    "    device='cuda',\n",
    "    seed=1004,\n",
    ")"
   ]
  },
  {
   "cell_type": "markdown",
   "id": "2875a28d-49ac-4abd-8d94-ae4228a6b87a",
   "metadata": {},
   "source": [
    "# Pretrain the Aptamer Encoder"
   ]
  },
  {
   "cell_type": "code",
   "execution_count": 3,
   "id": "97e26468-cc09-4369-8968-ea2c04d8c408",
   "metadata": {},
   "outputs": [],
   "source": [
    "pipeline.set_data_rna_pt(batch_size=68) # dataset from bpRNA\n",
    "pipeline.pretrain_aptamer(epochs=1000, lr=1e-5)"
   ]
  },
  {
   "cell_type": "markdown",
   "id": "64d3817b-9129-4709-b576-9b73d793df9b",
   "metadata": {},
   "source": [
    "# Pretrain the encoder for protein"
   ]
  },
  {
   "cell_type": "code",
   "execution_count": 4,
   "id": "9c20298a-6b30-41c7-bea8-b92c1759fe49",
   "metadata": {},
   "outputs": [],
   "source": [
    "pipeline.set_data_protein_pt(batch_size=68) # dataset from PDB\n",
    "pipeline.pretrain_protein(epochs=1000, lr=1e-5)"
   ]
  },
  {
   "cell_type": "markdown",
   "id": "1b5bb404-011a-4652-9c97-dc2070d1769a",
   "metadata": {},
   "source": [
    "# Fine-tune AptaTrans for API Prediction"
   ]
  },
  {
   "cell_type": "code",
   "execution_count": 5,
   "id": "bb335ee7-96c8-4ea5-bbe8-a43eb1b20a7f",
   "metadata": {},
   "outputs": [],
   "source": [
    "pipeline.set_data_for_training(batch_size=16)\n",
    "pipeline.train(epochs=200, lr=1e-5)"
   ]
  },
  {
   "cell_type": "markdown",
   "id": "55eab2c9-433e-48c0-a4f3-469dd6bad0a5",
   "metadata": {},
   "source": [
    "# Predict API Scores"
   ]
  },
  {
   "cell_type": "code",
   "execution_count": 6,
   "id": "0fc518d7-e6f6-44d4-9499-426bae33e95e",
   "metadata": {},
   "outputs": [],
   "source": [
    "# your aptamer\n",
    "aptamer = 'AACGCCGCGCGUUUAACUUCC'\n",
    "\n",
    "# target protein\n",
    "target = 'STEYKLVVVGADGVGKSALTIQLIQNHFVDEYDPTIEDSYRKQVVIDGETCLLDILDTAGQEEYSAMRDQYMRTGEGFLCVFAINNTKSFEDIHHYREQIKRVKDSEDVPMVLVGNKCDLPSRTVDTKQAQDLARSYGIPFIETSAKTRQGVDDAFYTLVREIRKHKEKMSK'"
   ]
  },
  {
   "cell_type": "code",
   "execution_count": 7,
   "id": "2e563f64-a42c-4f4a-9576-1c50815bbb22",
   "metadata": {},
   "outputs": [
    {
     "name": "stdout",
     "output_type": "stream",
     "text": [
      "Predict the Aptamer-Protein Interaction\n",
      "load the best model for api!\n",
      "Aptamer :  AACGCCGCGCGUUUAACUUCC\n",
      "Target Protein :  STEYKLVVVGADGVGKSALTIQLIQNHFVDEYDPTIEDSYRKQVVIDGETCLLDILDTAGQEEYSAMRDQYMRTGEGFLCVFAINNTKSFEDIHHYREQIKRVKDSEDVPMVLVGNKCDLPSRTVDTKQAQDLARSYGIPFIETSAKTRQGVDDAFYTLVREIRKHKEKMSK\n",
      "Score :  [[0.91837984]]\n"
     ]
    },
    {
     "data": {
      "text/plain": [
       "array([[0.91837984]], dtype=float32)"
      ]
     },
     "execution_count": 7,
     "metadata": {},
     "output_type": "execute_result"
    }
   ],
   "source": [
    "pipeline.inference(aptamer, target)"
   ]
  },
  {
   "cell_type": "markdown",
   "id": "a5528733-472b-4d57-88d3-f8d58d8a1b15",
   "metadata": {},
   "source": [
    "# Recommend Candidate Aptamers"
   ]
  },
  {
   "cell_type": "code",
   "execution_count": 8,
   "id": "873c339a-a95f-4c14-9f80-60951943051a",
   "metadata": {},
   "outputs": [],
   "source": [
    "target = 'STEYKLVVVGADGVGKSALTIQLIQNHFVDEYDPTIEDSYRKQVVIDGETCLLDILDTAGQEEYSAMRDQYMRTGEGFLCVFAINNTKSFEDIHHYREQIKRVKDSEDVPMVLVGNKCDLPSRTVDTKQAQDLARSYGIPFIETSAKTRQGVDDAFYTLVREIRKHKEKMSK'"
   ]
  },
  {
   "cell_type": "code",
   "execution_count": null,
   "id": "c88cbc9b-c974-4b31-9181-a3c8b8edcf51",
   "metadata": {},
   "outputs": [
    {
     "name": "stdout",
     "output_type": "stream",
     "text": [
      "load the best model for api!\n",
      "1 round start!!!\n"
     ]
    },
    {
     "name": "stderr",
     "output_type": "stream",
     "text": [
      "/opt/conda/lib/python3.10/site-packages/torch/nn/modules/activation.py:1160: UserWarning: Converting mask without torch.bool dtype to bool; this will negatively affect performance. Prefer to use a boolean mask directly. (Triggered internally at ../aten/src/ATen/native/transformers/attention.cpp:150.)\n",
      "  return torch._native_multi_head_attention(\n"
     ]
    },
    {
     "name": "stdout",
     "output_type": "stream",
     "text": [
      "best subsequence: C__G_U_G\n",
      "Depth: 4\n",
      "00:00:8.107326\n",
      "================================================================================\n",
      "2 round start!!!\n",
      "best subsequence: C__G_U_GA_U__U\n",
      "Depth: 7\n",
      "00:00:16.187382\n",
      "================================================================================\n",
      "3 round start!!!\n",
      "best subsequence: C__G_U_GA_U__UU_C_A_\n",
      "Depth: 10\n",
      "00:00:24.268504\n",
      "================================================================================\n",
      "4 round start!!!\n",
      "best subsequence: C__G_U_GA_U__UU_C_A_C__GG_\n",
      "Depth: 13\n",
      "00:00:32.436020\n",
      "================================================================================\n",
      "5 round start!!!\n",
      "best subsequence: C__G_U_GA_U__UU_C_A_C__GG__AA__C\n",
      "Depth: 16\n",
      "00:00:40.685504\n",
      "================================================================================\n",
      "6 round start!!!\n",
      "best subsequence: C__G_U_GA_U__UU_C_A_C__GG__AA__CU_U__A\n",
      "Depth: 19\n",
      "00:00:48.925924\n",
      "================================================================================\n",
      "7 round start!!!\n",
      "best subsequence: C__G_U_GA_U__UU_C_A_C__GG__AA__CU_U__AC__C_G\n",
      "Depth: 22\n",
      "00:00:56.993840\n",
      "================================================================================\n",
      "8 round start!!!\n",
      "best subsequence: C__G_U_GA_U__UU_C_A_C__GG__AA__CU_U__AC__C_GU__GA_\n",
      "Depth: 25\n",
      "00:01:5.087333\n",
      "================================================================================\n",
      "9 round start!!!\n",
      "best subsequence: C__G_U_GA_U__UU_C_A_C__GG__AA__CU_U__AC__C_GU__GA_U__AA__C\n",
      "Depth: 29\n",
      "00:01:13.221608\n",
      "================================================================================\n",
      "10 round start!!!\n",
      "best subsequence: C__G_U_GA_U__UU_C_A_C__GG__AA__CU_U__AC__C_GU__GA_U__AA__CA_G__C_A\n",
      "Depth: 33\n",
      "00:01:21.251776\n",
      "================================================================================\n",
      "11 round start!!!\n",
      "best subsequence: C__G_U_GA_U__UU_C_A_C__GG__AA__CU_U__AC__C_GU__GA_U__AA__CA_G__C_A_G_C_C\n",
      "Depth: 36\n",
      "00:01:29.312843\n",
      "================================================================================\n",
      "12 round start!!!\n",
      "best subsequence: C__G_U_GA_U__UU_C_A_C__GG__AA__CU_U__AC__C_GU__GA_U__AA__CA_G__C_A_G_C_C_CU__A_U\n",
      "Depth: 40\n",
      "00:01:37.575137\n",
      "================================================================================\n",
      "candidate:\t UGAAUAUCUUAGCACUUACGUGUGACACGGACCAGCCCAU \tscore:\t tensor([[0.4585]], device='cuda:0')\n",
      "********************************************************************************\n",
      "1 round start!!!\n",
      "best subsequence: G_C_A_\n",
      "Depth: 3\n",
      "00:00:8.223640\n",
      "================================================================================\n",
      "2 round start!!!\n",
      "best subsequence: G_C_A_A__GG_\n",
      "Depth: 6\n",
      "00:00:16.368658\n",
      "================================================================================\n",
      "3 round start!!!\n",
      "best subsequence: G_C_A_A__GG__U_AG_\n",
      "Depth: 9\n",
      "00:00:24.671946\n",
      "================================================================================\n",
      "4 round start!!!\n",
      "best subsequence: G_C_A_A__GG__U_AG__C_CC_\n",
      "Depth: 12\n",
      "00:00:32.942660\n",
      "================================================================================\n",
      "5 round start!!!\n",
      "best subsequence: G_C_A_A__GG__U_AG__C_CC_G_G__C\n",
      "Depth: 15\n",
      "00:00:41.250648\n",
      "================================================================================\n",
      "6 round start!!!\n",
      "best subsequence: G_C_A_A__GG__U_AG__C_CC_G_G__CG__A_C\n",
      "Depth: 18\n",
      "00:00:49.425347\n",
      "================================================================================\n",
      "7 round start!!!\n",
      "best subsequence: G_C_A_A__GG__U_AG__C_CC_G_G__CG__A_CA__AA_\n",
      "Depth: 21\n",
      "00:00:57.719180\n",
      "================================================================================\n",
      "8 round start!!!\n",
      "best subsequence: G_C_A_A__GG__U_AG__C_CC_G_G__CG__A_CA__AA__A_AU_\n",
      "Depth: 24\n",
      "00:01:5.917065\n",
      "================================================================================\n",
      "9 round start!!!\n",
      "best subsequence: G_C_A_A__GG__U_AG__C_CC_G_G__CG__A_CA__AA__A_AU__AG__A\n",
      "Depth: 27\n",
      "00:01:14.153805\n",
      "================================================================================\n",
      "10 round start!!!\n",
      "best subsequence: G_C_A_A__GG__U_AG__C_CC_G_G__CG__A_CA__AA__A_AU__AG__A_UA_A_U_\n",
      "Depth: 31\n",
      "00:01:22.252515\n",
      "================================================================================\n",
      "11 round start!!!\n",
      "best subsequence: G_C_A_A__GG__U_AG__C_CC_G_G__CG__A_CA__AA__A_AU__AG__A_UA_A_U__AU_C_\n",
      "Depth: 34\n",
      "00:01:30.416895\n",
      "================================================================================\n",
      "12 round start!!!\n",
      "best subsequence: G_C_A_A__GG__U_AG__C_CC_G_G__CG__A_CA__AA__A_AU__AG__A_UA_A_U__AU_C_C__G_GG_\n",
      "Depth: 38\n",
      "00:01:38.609171\n",
      "================================================================================\n",
      "13 round start!!!\n",
      "best subsequence: G_C_A_A__GG__U_AG__C_CC_G_G__CG__A_CA__AA__A_AU__AG__A_UA_A_U__AU_C_C__G_GG__U_A\n",
      "Depth: 40\n",
      "00:01:40.050773\n",
      "================================================================================\n",
      "candidate:\t GCCUUAAGUAAGGGCGGAACGGUACCCACAAAAAUAGGUA \tscore:\t tensor([[0.6972]], device='cuda:0')\n",
      "********************************************************************************\n",
      "1 round start!!!\n",
      "best subsequence: _U_CC_\n",
      "Depth: 3\n",
      "00:00:8.089580\n",
      "================================================================================\n",
      "2 round start!!!\n",
      "best subsequence: _U_CC_A__GG_C_U_\n",
      "Depth: 8\n",
      "00:00:16.222281\n",
      "================================================================================\n",
      "3 round start!!!\n",
      "best subsequence: _U_CC_A__GG_C_U__U_UA_\n",
      "Depth: 11\n",
      "00:00:24.476344\n",
      "================================================================================\n",
      "4 round start!!!\n",
      "best subsequence: _U_CC_A__GG_C_U__U_UA_C__CA_\n",
      "Depth: 14\n",
      "00:00:32.760883\n",
      "================================================================================\n",
      "5 round start!!!\n",
      "best subsequence: _U_CC_A__GG_C_U__U_UA_C__CA_G_G_A_\n",
      "Depth: 17\n",
      "00:00:40.951666\n",
      "================================================================================\n",
      "6 round start!!!\n",
      "best subsequence: _U_CC_A__GG_C_U__U_UA_C__CA_G_G_A_A__UA_\n",
      "Depth: 20\n",
      "00:00:49.137720\n",
      "================================================================================\n",
      "7 round start!!!\n",
      "best subsequence: _U_CC_A__GG_C_U__U_UA_C__CA_G_G_A_A__UA__A_C_CU_\n",
      "Depth: 24\n",
      "00:00:57.223920\n",
      "================================================================================\n",
      "8 round start!!!\n",
      "best subsequence: _U_CC_A__GG_C_U__U_UA_C__CA_G_G_A_A__UA__A_C_CU__A_AA_\n",
      "Depth: 27\n",
      "00:01:5.363683\n",
      "================================================================================\n",
      "9 round start!!!\n",
      "best subsequence: _U_CC_A__GG_C_U__U_UA_C__CA_G_G_A_A__UA__A_C_CU__A_AA__CG__C\n",
      "Depth: 30\n",
      "00:01:13.434698\n",
      "================================================================================\n",
      "10 round start!!!\n",
      "best subsequence: _U_CC_A__GG_C_U__U_UA_C__CA_G_G_A_A__UA__A_C_CU__A_AA__CG__CU_C_U_C_\n",
      "Depth: 34\n",
      "00:01:21.636870\n",
      "================================================================================\n",
      "11 round start!!!\n",
      "best subsequence: _U_CC_A__GG_C_U__U_UA_C__CA_G_G_A_A__UA__A_C_CU__A_AA__CG__CU_C_U_C__AC_A_\n",
      "Depth: 37\n",
      "00:01:29.892808\n",
      "================================================================================\n",
      "12 round start!!!\n",
      "best subsequence: _U_CC_A__GG_C_U__U_UA_C__CA_G_G_A_A__UA__A_C_CU__A_AA__CG__CU_C_U_C__AC_A_C__UG_\n",
      "Depth: 40\n",
      "00:01:36.714630\n",
      "================================================================================\n",
      "candidate:\t GCACCUCUGAUAAAGGACAUCGACUCGUUCUACCAACCAU \tscore:\t tensor([[0.1373]], device='cuda:0')\n",
      "********************************************************************************\n",
      "1 round start!!!\n",
      "best subsequence: C__U_G\n",
      "Depth: 3\n",
      "00:00:8.125278\n",
      "================================================================================\n",
      "2 round start!!!\n",
      "best subsequence: C__U_G_U_AG_\n",
      "Depth: 6\n",
      "00:00:16.334490\n",
      "================================================================================\n",
      "3 round start!!!\n",
      "best subsequence: C__U_G_U_AG_C_U__C\n",
      "Depth: 9\n",
      "00:00:24.521366\n",
      "================================================================================\n",
      "4 round start!!!\n",
      "best subsequence: C__U_G_U_AG_C_U__CA_C__C\n",
      "Depth: 12\n",
      "00:00:32.650740\n",
      "================================================================================\n",
      "5 round start!!!\n",
      "best subsequence: C__U_G_U_AG_C_U__CA_C__CG__UU_\n",
      "Depth: 15\n",
      "00:00:40.830323\n",
      "================================================================================\n",
      "6 round start!!!\n",
      "best subsequence: C__U_G_U_AG_C_U__CA_C__CG__UU__A_UC_\n",
      "Depth: 18\n",
      "00:00:49.057359\n",
      "================================================================================\n",
      "7 round start!!!\n",
      "best subsequence: C__U_G_U_AG_C_U__CA_C__CG__UU__A_UC_U__UG_\n",
      "Depth: 21\n",
      "00:00:57.200966\n",
      "================================================================================\n",
      "8 round start!!!\n",
      "best subsequence: C__U_G_U_AG_C_U__CA_C__CG__UU__A_UC_U__UG__CG_C_\n",
      "Depth: 24\n",
      "00:01:5.075057\n",
      "================================================================================\n",
      "9 round start!!!\n",
      "best subsequence: C__U_G_U_AG_C_U__CA_C__CG__UU__A_UC_U__UG__CG_C_C__GC_\n",
      "Depth: 27\n",
      "00:01:13.125590\n",
      "================================================================================\n",
      "10 round start!!!\n",
      "best subsequence: C__U_G_U_AG_C_U__CA_C__CG__UU__A_UC_U__UG__CG_C_C__GC_A_A__G\n",
      "Depth: 30\n",
      "00:01:21.133296\n",
      "================================================================================\n",
      "11 round start!!!\n"
     ]
    }
   ],
   "source": [
    "pipeline.recommend(target, n_aptamers=5, depth=40, iteration=1000)"
   ]
  },
  {
   "cell_type": "code",
   "execution_count": null,
   "id": "a7d25a4f-a806-4d94-a87d-004f3a39da69",
   "metadata": {},
   "outputs": [],
   "source": []
  }
 ],
 "metadata": {
  "kernelspec": {
   "display_name": "Python 3 (ipykernel)",
   "language": "python",
   "name": "python3"
  },
  "language_info": {
   "codemirror_mode": {
    "name": "ipython",
    "version": 3
   },
   "file_extension": ".py",
   "mimetype": "text/x-python",
   "name": "python",
   "nbconvert_exporter": "python",
   "pygments_lexer": "ipython3",
   "version": "3.10.8"
  }
 },
 "nbformat": 4,
 "nbformat_minor": 5
}
