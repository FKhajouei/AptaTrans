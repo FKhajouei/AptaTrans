{
 "cells": [
  {
   "cell_type": "code",
   "execution_count": 1,
   "id": "6875d3c1-9449-40bb-bf4c-a357f98c8e60",
   "metadata": {},
   "outputs": [],
   "source": [
    "from aptatrans_pipeline import AptaTransPipeline"
   ]
  },
  {
   "cell_type": "markdown",
   "id": "cf7668db-f683-40b3-ba39-436ab01d8ef4",
   "metadata": {},
   "source": [
    "# Initialize the Pipeline"
   ]
  },
  {
   "cell_type": "code",
   "execution_count": 2,
   "id": "3ebf2206-d605-4878-9a20-351bcb7c8cd5",
   "metadata": {
    "scrolled": true
   },
   "outputs": [],
   "source": [
    "pipeline = AptaTransPipeline(\n",
    "    dim=128,\n",
    "    mult_ff=2,\n",
    "    n_layers=6,\n",
    "    n_heads=8,\n",
    "    dropout=0.1,\n",
    "    load_best_pt=False,\n",
    "    device='cuda',\n",
    "    seed=1004,\n",
    ")"
   ]
  },
  {
   "cell_type": "markdown",
   "id": "2875a28d-49ac-4abd-8d94-ae4228a6b87a",
   "metadata": {},
   "source": [
    "# Pretrain the Aptamer Encoder"
   ]
  },
  {
   "cell_type": "code",
   "execution_count": 4,
   "id": "97e26468-cc09-4369-8968-ea2c04d8c408",
   "metadata": {},
   "outputs": [],
   "source": [
    "pipeline.set_data_rna_pt(batch_size=32) # dataset from bpRNA"
   ]
  },
  {
   "cell_type": "code",
   "execution_count": null,
   "id": "fc694cd5",
   "metadata": {},
   "outputs": [],
   "source": [
    "pipeline.pretrain_encoder_aptamer(epochs=10, lr=1e-5)"
   ]
  },
  {
   "cell_type": "markdown",
   "id": "64d3817b-9129-4709-b576-9b73d793df9b",
   "metadata": {},
   "source": [
    "# Pretrain the encoder for protein"
   ]
  },
  {
   "cell_type": "code",
   "execution_count": 3,
   "id": "9c20298a-6b30-41c7-bea8-b92c1759fe49",
   "metadata": {},
   "outputs": [],
   "source": [
    "pipeline.set_data_protein_pt(batch_size=32) # dataset from PDB"
   ]
  },
  {
   "cell_type": "code",
   "execution_count": null,
   "id": "522d5500",
   "metadata": {},
   "outputs": [],
   "source": [
    "pipeline.pretrain_encoder_protein(epochs=1000, lr=1e-5)"
   ]
  },
  {
   "cell_type": "markdown",
   "id": "1b5bb404-011a-4652-9c97-dc2070d1769a",
   "metadata": {},
   "source": [
    "# Fine-tune AptaTrans for API Prediction"
   ]
  },
  {
   "cell_type": "code",
   "execution_count": 4,
   "id": "bb335ee7-96c8-4ea5-bbe8-a43eb1b20a7f",
   "metadata": {},
   "outputs": [],
   "source": [
    "pipeline.set_data_for_training(batch_size=16)"
   ]
  },
  {
   "cell_type": "code",
   "execution_count": null,
   "id": "28c9fe8d",
   "metadata": {},
   "outputs": [],
   "source": [
    "pipeline.train(epochs=200, lr=1e-5)"
   ]
  },
  {
   "cell_type": "markdown",
   "id": "55eab2c9-433e-48c0-a4f3-469dd6bad0a5",
   "metadata": {},
   "source": [
    "# Predict API Scores"
   ]
  },
  {
   "cell_type": "code",
   "execution_count": 3,
   "id": "0fc518d7-e6f6-44d4-9499-426bae33e95e",
   "metadata": {},
   "outputs": [],
   "source": [
    "# your aptamer\n",
    "aptamer = 'AACGCCGCGCGUUUAACUUCC'\n",
    "\n",
    "# target protein\n",
    "target = 'STEYKLVVVGADGVGKSALTIQLIQNHFVDEYDPTIEDSYRKQVVIDGETCLLDILDTAGQEEYSAMRDQYMRTGEGFLCVFAINNTKSFEDIHHYREQIKRVKDSEDVPMVLVGNKCDLPSRTVDTKQAQDLARSYGIPFIETSAKTRQGVDDAFYTLVREIRKHKEKMSK'"
   ]
  },
  {
   "cell_type": "code",
   "execution_count": 4,
   "id": "2e563f64-a42c-4f4a-9576-1c50815bbb22",
   "metadata": {},
   "outputs": [
    {
     "name": "stdout",
     "output_type": "stream",
     "text": [
      "Predicting the Aptamer-Protein Interaction\n",
      "Loading the best model for API!\n",
      "Aptamer: AACGCCGCGCGUUUAACUUCC\n",
      "Target Protein: STEYKLVVVGADGVGKSALTIQLIQNHFVDEYDPTIEDSYRKQVVIDGETCLLDILDTAGQEEYSAMRDQYMRTGEGFLCVFAINNTKSFEDIHHYREQIKRVKDSEDVPMVLVGNKCDLPSRTVDTKQAQDLARSYGIPFIETSAKTRQGVDDAFYTLVREIRKHKEKMSK\n",
      "Score: [[0.4737131]]\n"
     ]
    },
    {
     "data": {
      "text/plain": [
       "array([[0.4737131]], dtype=float32)"
      ]
     },
     "execution_count": 4,
     "metadata": {},
     "output_type": "execute_result"
    }
   ],
   "source": [
    "pipeline.inference(aptamer, target)"
   ]
  },
  {
   "cell_type": "markdown",
   "id": "a5528733-472b-4d57-88d3-f8d58d8a1b15",
   "metadata": {},
   "source": [
    "# Recommend Candidate Aptamers"
   ]
  },
  {
   "cell_type": "code",
   "execution_count": 5,
   "id": "873c339a-a95f-4c14-9f80-60951943051a",
   "metadata": {},
   "outputs": [],
   "source": [
    "target = 'STEYKLVVVGADGVGKSALTIQLIQNHFVDEYDPTIEDSYRKQVVIDGETCLLDILDTAGQEEYSAMRDQYMRTGEGFLCVFAINNTKSFEDIHHYREQIKRVKDSEDVPMVLVGNKCDLPSRTVDTKQAQDLARSYGIPFIETSAKTRQGVDDAFYTLVREIRKHKEKMSK'"
   ]
  },
  {
   "cell_type": "code",
   "execution_count": 6,
   "id": "c88cbc9b-c974-4b31-9181-a3c8b8edcf51",
   "metadata": {},
   "outputs": [
    {
     "name": "stdout",
     "output_type": "stream",
     "text": [
      "Loading the best model for API!\n",
      "1 round start!!!\n",
      "best subsequence: C__CA_\n",
      "Depth: 3\n",
      "00:00:7.853315\n",
      "================================================================================\n",
      "2 round start!!!\n",
      "best subsequence: C__CA__CG__C\n",
      "Depth: 6\n",
      "00:00:15.698875\n",
      "================================================================================\n",
      "3 round start!!!\n",
      "best subsequence: C__CA__CG__C_UG__C\n",
      "Depth: 9\n",
      "00:00:23.564412\n",
      "================================================================================\n",
      "4 round start!!!\n",
      "best subsequence: C__CA__CG__C_UG__CC_G__C\n",
      "Depth: 12\n",
      "00:00:31.391053\n",
      "================================================================================\n",
      "5 round start!!!\n",
      "best subsequence: C__CA__CG__C_UG__CC_G__CA__U_G\n",
      "Depth: 15\n",
      "00:00:39.248983\n",
      "================================================================================\n",
      "6 round start!!!\n",
      "best subsequence: C__CA__CG__C_UG__CC_G__CA__U_G_A_UC_\n",
      "Depth: 18\n",
      "00:00:47.136729\n",
      "================================================================================\n",
      "7 round start!!!\n",
      "best subsequence: C__CA__CG__C_UG__CC_G__CA__U_G_A_UC__U_GC_\n",
      "Depth: 21\n",
      "00:00:55.095853\n",
      "================================================================================\n",
      "8 round start!!!\n",
      "best subsequence: C__CA__CG__C_UG__CC_G__CA__U_G_A_UC__U_GC__UA__A\n",
      "Depth: 24\n",
      "00:01:2.970259\n",
      "================================================================================\n",
      "9 round start!!!\n"
     ]
    }
   ],
   "source": [
    "pipeline.recommend(target, n_aptamers=5, depth=40, iteration=1000)"
   ]
  }
 ],
 "metadata": {
  "kernelspec": {
   "display_name": "Python 3 (ipykernel)",
   "language": "python",
   "name": "python3"
  },
  "language_info": {
   "codemirror_mode": {
    "name": "ipython",
    "version": 3
   },
   "file_extension": ".py",
   "mimetype": "text/x-python",
   "name": "python",
   "nbconvert_exporter": "python",
   "pygments_lexer": "ipython3",
   "version": "3.10.11"
  }
 },
 "nbformat": 4,
 "nbformat_minor": 5
}
